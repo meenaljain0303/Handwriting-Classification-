{
  "nbformat": 4,
  "nbformat_minor": 0,
  "metadata": {
    "colab": {
      "name": "Handwriting Classification Project.ipynb",
      "provenance": [],
      "collapsed_sections": [],
      "toc_visible": true,
      "authorship_tag": "ABX9TyMpSNhVvgTCT6suuSWgnpoU"
    },
    "kernelspec": {
      "name": "python3",
      "display_name": "Python 3"
    },
    "language_info": {
      "name": "python"
    }
  },
  "cells": [
    {
      "cell_type": "code",
      "metadata": {
        "id": "WRIx1_mxKGuZ"
      },
      "source": [
        "import numpy as np\n",
        "import matplotlib.pyplot as plt\n",
        "from sklearn.datasets import make_blobs\n",
        "from sklearn.model_selection import train_test_split"
      ],
      "execution_count": null,
      "outputs": []
    },
    {
      "cell_type": "code",
      "metadata": {
        "id": "nru3F1dkRfpi"
      },
      "source": [
        "data = np.load('/content/mnist_train_small.npy')"
      ],
      "execution_count": null,
      "outputs": []
    },
    {
      "cell_type": "code",
      "metadata": {
        "id": "RJ4WWJOQR2W1"
      },
      "source": [
        "X = data[:, 1:]\n",
        "y = data[:, 0]"
      ],
      "execution_count": null,
      "outputs": []
    },
    {
      "cell_type": "code",
      "metadata": {
        "colab": {
          "base_uri": "https://localhost:8080/"
        },
        "id": "YofPFb0yR4tX",
        "outputId": "7669a955-f110-4be0-c0bd-e2af882f8936"
      },
      "source": [
        "X.shape, y.shape"
      ],
      "execution_count": null,
      "outputs": [
        {
          "output_type": "execute_result",
          "data": {
            "text/plain": [
              "((19999, 784), (19999,))"
            ]
          },
          "metadata": {
            "tags": []
          },
          "execution_count": 10
        }
      ]
    },
    {
      "cell_type": "code",
      "metadata": {
        "colab": {
          "base_uri": "https://localhost:8080/",
          "height": 282
        },
        "id": "hN0eoKtSR7KE",
        "outputId": "268e3c00-0aea-4688-9023-f28ef44d1fd9"
      },
      "source": [
        "plt.imshow(X[7].reshape(28,28), cmap=\"gray\")"
      ],
      "execution_count": null,
      "outputs": [
        {
          "output_type": "execute_result",
          "data": {
            "text/plain": [
              "<matplotlib.image.AxesImage at 0x7f1e26c4dcd0>"
            ]
          },
          "metadata": {
            "tags": []
          },
          "execution_count": 38
        },
        {
          "output_type": "display_data",
          "data": {
            "image/png": "[encoded data removed]",
            "text/plain": [
              "<Figure size 432x288 with 1 Axes>"
            ]
          },
          "metadata": {
            "tags": [],
            "needs_background": "light"
          }
        }
      ]
    },
    {
      "cell_type": "code",
      "metadata": {
        "colab": {
          "base_uri": "https://localhost:8080/"
        },
        "id": "-oNkSWA7iTrq",
        "outputId": "b9ebb840-c9c5-4a0f-9f87-09c285343000"
      },
      "source": [
        "#for checking if it matches to the actual correct class\n",
        "y[7]"
      ],
      "execution_count": null,
      "outputs": [
        {
          "output_type": "execute_result",
          "data": {
            "text/plain": [
              "5"
            ]
          },
          "metadata": {
            "tags": []
          },
          "execution_count": 39
        }
      ]
    },
    {
      "cell_type": "code",
      "metadata": {
        "id": "vWCW3jWApkfw"
      },
      "source": [
        "train_test_split?"
      ],
      "execution_count": null,
      "outputs": []
    },
    {
      "cell_type": "code",
      "metadata": {
        "id": "5BePGhAe6L1W"
      },
      "source": [
        "X_train, X_test, y_train, y_test = train_test_split( X, y, test_size=0.33, random_state=42)"
      ],
      "execution_count": null,
      "outputs": []
    },
    {
      "cell_type": "code",
      "metadata": {
        "colab": {
          "base_uri": "https://localhost:8080/"
        },
        "id": "O8kzpsB16UpP",
        "outputId": "78683357-99d3-475b-d771-b9d12034ca34"
      },
      "source": [
        "X_train.shape, y_train.shape, X_test.shape, y_test.shape"
      ],
      "execution_count": null,
      "outputs": [
        {
          "output_type": "execute_result",
          "data": {
            "text/plain": [
              "((13399, 784), (13399,), (6600, 784), (6600,))"
            ]
          },
          "metadata": {
            "tags": []
          },
          "execution_count": 32
        }
      ]
    },
    {
      "cell_type": "code",
      "metadata": {
        "id": "lmkLnYKH6cvm"
      },
      "source": [
        "from sklearn.neighbors import KNeighborsClassifier"
      ],
      "execution_count": null,
      "outputs": []
    },
    {
      "cell_type": "code",
      "metadata": {
        "id": "bmkcYskh-ZG3"
      },
      "source": [
        "model=KNeighborsClassifier()"
      ],
      "execution_count": null,
      "outputs": []
    },
    {
      "cell_type": "code",
      "metadata": {
        "colab": {
          "base_uri": "https://localhost:8080/"
        },
        "id": "cZfQH_a5-d3D",
        "outputId": "d83c06be-fe3f-4b2e-b09b-3e7240aede8f"
      },
      "source": [
        "#training the model happens\n",
        "#plotting the points on the graph simply\n",
        "model.fit(X_train, y_train)"
      ],
      "execution_count": null,
      "outputs": [
        {
          "output_type": "execute_result",
          "data": {
            "text/plain": [
              "KNeighborsClassifier(algorithm='auto', leaf_size=30, metric='minkowski',\n",
              "                     metric_params=None, n_jobs=None, n_neighbors=5, p=2,\n",
              "                     weights='uniform')"
            ]
          },
          "metadata": {
            "tags": []
          },
          "execution_count": 36
        }
      ]
    },
    {
      "cell_type": "code",
      "metadata": {
        "colab": {
          "base_uri": "https://localhost:8080/"
        },
        "id": "faI6S9IK-rKW",
        "outputId": "1c3f3ac3-37f8-4c92-d1c3-ac5d40c8b23a"
      },
      "source": [
        "model.predict(X_test[:10])"
      ],
      "execution_count": null,
      "outputs": [
        {
          "output_type": "execute_result",
          "data": {
            "text/plain": [
              "array([1, 7, 0, 9, 4, 5, 4, 6, 9, 2], dtype=uint8)"
            ]
          },
          "metadata": {
            "tags": []
          },
          "execution_count": 41
        }
      ]
    },
    {
      "cell_type": "code",
      "metadata": {
        "colab": {
          "base_uri": "https://localhost:8080/"
        },
        "id": "1GVHi6Yd-v60",
        "outputId": "3d88c180-b881-4a76-e681-216bed5d0868"
      },
      "source": [
        "y_test[:10] "
      ],
      "execution_count": null,
      "outputs": [
        {
          "output_type": "execute_result",
          "data": {
            "text/plain": [
              "array([7, 7, 0, 9, 4, 5, 4, 6, 9, 2], dtype=uint8)"
            ]
          },
          "metadata": {
            "tags": []
          },
          "execution_count": 36
        }
      ]
    },
    {
      "cell_type": "code",
      "metadata": {
        "colab": {
          "base_uri": "https://localhost:8080/",
          "height": 282
        },
        "id": "bEmonm1qbteR",
        "outputId": "032ec87e-9ca4-4498-bdf1-2b76b7ff2399"
      },
      "source": [
        "plt.imshow(X_test[8].reshape(28, 28), cmap='gray')"
      ],
      "execution_count": null,
      "outputs": [
        {
          "output_type": "execute_result",
          "data": {
            "text/plain": [
              "<matplotlib.image.AxesImage at 0x7f1e26a44f90>"
            ]
          },
          "metadata": {
            "tags": []
          },
          "execution_count": 42
        },
        {
          "output_type": "display_data",
          "data": {
            "image/png": "[encoded data removed]",
            "text/plain": [
              "<Figure size 432x288 with 1 Axes>"
            ]
          },
          "metadata": {
            "tags": [],
            "needs_background": "light"
          }
        }
      ]
    },
    {
      "cell_type": "code",
      "metadata": {
        "colab": {
          "base_uri": "https://localhost:8080/"
        },
        "id": "jtHKII_u-4TX",
        "outputId": "67ffa461-4fea-4d75-fa8b-88f9f66e7f14"
      },
      "source": [
        "#accuracy\n",
        "model.score(X_test[:100], y_test[:100])"
      ],
      "execution_count": null,
      "outputs": [
        {
          "output_type": "execute_result",
          "data": {
            "text/plain": [
              "0.95"
            ]
          },
          "metadata": {
            "tags": []
          },
          "execution_count": 45
        }
      ]
    },
    {
      "cell_type": "markdown",
      "metadata": {
        "id": "reXDPKPqAsGE"
      },
      "source": [
        "# Custom KNN\n"
      ]
    },
    {
      "cell_type": "code",
      "metadata": {
        "id": "UL1SvwohAyd6"
      },
      "source": [
        "class CustomKNN:\n",
        "    # constructor\n",
        "    def __init__(self, n_neighbours=5):\n",
        "        self.n_neighbours = n_neighbours\n",
        "        \n",
        "    # training function\n",
        "    def fit(self, X, y):\n",
        "        self._X = (X - X.mean()) / X.std() # standardisation\n",
        "        self._y = y\n",
        "    \n",
        "    # predict point\n",
        "    # given a single point, tell me which class it belongs to \n",
        "    def predict_point(self, point):\n",
        "        # storing the dis of given 'point' from each point in training data\n",
        "        list_dist = []\n",
        "        \n",
        "        # these points are from my training data\n",
        "        for x_point, y_point in zip(self._X, self._y):\n",
        "            dist_point = ((point - x_point) ** 2).sum()\n",
        "            list_dist.append([dist_point, y_point])\n",
        "        \n",
        "        ## sorting the list according to the distance\n",
        "        sorted_dist = sorted(list_dist)\n",
        "        top_k = sorted_dist[:self.n_neighbours]\n",
        "        \n",
        "        # taking the count \n",
        "        items, counts = np.unique(np.array(top_k)[:, 1], return_counts=True)\n",
        "        ans = items[np.argmax(counts)]\n",
        "        return ans\n",
        "            \n",
        "    # predict\n",
        "    # give me answer for each number in the array\n",
        "    def predict(self, X):\n",
        "        results = []\n",
        "        X = (X - X.mean()) / X.std() \n",
        "        for point in X:\n",
        "            results.append(self.predict_point(point))\n",
        "        return np.array(results, dtype=int)\n",
        "    \n",
        "    # score to measure my accuracy\n",
        "    def score(self, X, y):\n",
        "        return sum(self.predict(X) == y) / len(y)"
      ],
      "execution_count": null,
      "outputs": []
    },
    {
      "cell_type": "code",
      "metadata": {
        "id": "RqIUDKFwQA-J"
      },
      "source": [
        "#make m2 an object of class CustomKNN\n",
        "m2=CustomKNN()"
      ],
      "execution_count": null,
      "outputs": []
    },
    {
      "cell_type": "code",
      "metadata": {
        "id": "S8JydR13QK6r"
      },
      "source": [
        "#training data \n",
        "m2.fit(X_train, y_train)"
      ],
      "execution_count": null,
      "outputs": []
    },
    {
      "cell_type": "code",
      "metadata": {
        "colab": {
          "base_uri": "https://localhost:8080/"
        },
        "id": "jwwar7qeQRwn",
        "outputId": "4ce8407a-ac55-47e5-be4d-ef754c99eec1"
      },
      "source": [
        "#give me answer for each number of array\n",
        "m2.predict(X_test[:10])"
      ],
      "execution_count": null,
      "outputs": [
        {
          "output_type": "execute_result",
          "data": {
            "text/plain": [
              "array([1, 7, 0, 9, 4, 5, 4, 6, 9, 2])"
            ]
          },
          "metadata": {
            "tags": []
          },
          "execution_count": 27
        }
      ]
    },
    {
      "cell_type": "code",
      "metadata": {
        "colab": {
          "base_uri": "https://localhost:8080/"
        },
        "id": "hepNn4rlQXjz",
        "outputId": "a8ce17b8-c86c-412c-8134-ffbea8f747c2"
      },
      "source": [
        "y_test[:10]"
      ],
      "execution_count": null,
      "outputs": [
        {
          "output_type": "execute_result",
          "data": {
            "text/plain": [
              "array([7, 7, 0, 9, 4, 5, 4, 6, 9, 2], dtype=uint8)"
            ]
          },
          "metadata": {
            "tags": []
          },
          "execution_count": 29
        }
      ]
    },
    {
      "cell_type": "code",
      "metadata": {
        "colab": {
          "base_uri": "https://localhost:8080/"
        },
        "id": "PmwTFNaTQuo7",
        "outputId": "0839a76a-4bcc-4a22-c0e4-2628f916cd21"
      },
      "source": [
        "#accuracy\n",
        "m2.score(X_test[:100], y_test[:100])"
      ],
      "execution_count": null,
      "outputs": [
        {
          "output_type": "execute_result",
          "data": {
            "text/plain": [
              "0.95"
            ]
          },
          "metadata": {
            "tags": []
          },
          "execution_count": 30
        }
      ]
    },
    {
      "cell_type": "markdown",
      "metadata": {
        "id": "MIJSD0ZycLaT"
      },
      "source": [
        "# Working of Custom KNN with easy examples\n"
      ]
    },
    {
      "cell_type": "code",
      "metadata": {
        "id": "eqs3gGUXcNjZ"
      },
      "source": [
        "li = [ \n",
        "    [23, 0],\n",
        "    [45, 1],\n",
        "    [19, 0],\n",
        "    [3, 2],\n",
        "    [10, 0],\n",
        "    [34, 2],\n",
        "    [100, 1]\n",
        "]"
      ],
      "execution_count": null,
      "outputs": []
    },
    {
      "cell_type": "code",
      "metadata": {
        "id": "rfYIFoR_IbWT"
      },
      "source": [
        "sorted_list=sorted(li)"
      ],
      "execution_count": null,
      "outputs": []
    },
    {
      "cell_type": "code",
      "metadata": {
        "id": "cT6qprTSKGh1"
      },
      "source": [
        "top_k=sorted_list[:5]"
      ],
      "execution_count": null,
      "outputs": []
    },
    {
      "cell_type": "code",
      "metadata": {
        "colab": {
          "base_uri": "https://localhost:8080/"
        },
        "id": "_g708-gWWG7b",
        "outputId": "acfc3157-02e0-4d3c-d539-836887ca45a1"
      },
      "source": [
        "top_k"
      ],
      "execution_count": null,
      "outputs": [
        {
          "output_type": "execute_result",
          "data": {
            "text/plain": [
              "[[3, 2], [10, 0], [19, 0], [23, 0], [34, 2]]"
            ]
          },
          "metadata": {
            "tags": []
          },
          "execution_count": 17
        }
      ]
    },
    {
      "cell_type": "code",
      "metadata": {
        "id": "4uNBxpTcKzLE"
      },
      "source": [
        "li, counts = np.unique(np.array(top_k)[:, 1], return_counts=True)"
      ],
      "execution_count": null,
      "outputs": []
    },
    {
      "cell_type": "code",
      "metadata": {
        "colab": {
          "base_uri": "https://localhost:8080/"
        },
        "id": "gOoR49GpK__m",
        "outputId": "bd528883-ec37-4fe4-e24c-55771c44f3dc"
      },
      "source": [
        "li, counts"
      ],
      "execution_count": null,
      "outputs": [
        {
          "output_type": "execute_result",
          "data": {
            "text/plain": [
              "(array([0, 2]), array([3, 2]))"
            ]
          },
          "metadata": {
            "tags": []
          },
          "execution_count": 19
        }
      ]
    }
  ]
}